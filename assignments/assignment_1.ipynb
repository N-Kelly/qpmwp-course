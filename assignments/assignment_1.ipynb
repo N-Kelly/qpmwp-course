{
 "cells": [
  {
   "cell_type": "markdown",
   "metadata": {},
   "source": [
    "# Assignment 1\n",
    "\n",
    "Deadline: 19.03.2025, 12:00 CET\n",
    "\n",
    "<Add your name, student-id and emal address>"
   ]
  },
  {
   "cell_type": "code",
   "execution_count": 1,
   "metadata": {},
   "outputs": [],
   "source": [
    "# Import standard libraries\n",
    "import os\n",
    "import sys\n",
    "import timeit # To compute runtimes\n",
    "import time\n",
    "from typing import Optional\n",
    "\n",
    "# Import third-party libraries\n",
    "import numpy as np\n",
    "import pandas as pd\n",
    "import matplotlib.pyplot as plt\n",
    "\n",
    "# Import local modules\n",
    "project_root = os.path.dirname(os.path.dirname(os.getcwd()))\n",
    "src_path = os.path.join(project_root, 'qpmwp-course\\\\src')\n",
    "sys.path.append(project_root)\n",
    "sys.path.append(src_path)\n",
    "from estimation.covariance import Covariance\n",
    "from estimation.expected_return import ExpectedReturn\n",
    "from optimization.constraints import Constraints\n",
    "from optimization.optimization import Optimization, Objective, MeanVariance\n",
    "from optimization.optimization_data import OptimizationData\n",
    "from optimization.quadratic_program import QuadraticProgram, USABLE_SOLVERS"
   ]
  },
  {
   "cell_type": "markdown",
   "metadata": {},
   "source": [
    "## 1. Solver Horse Race\n",
    "\n",
    "### 1.a)\n",
    "(3 points)\n",
    "\n",
    "Generate a Multivariate-Normal random dataset of dimension TxN, T=1000, N=100, and compute a vector of expected returns, q, and a covariance matrix, P, using classes ExpectedReturn and Covariance respectively."
   ]
  },
  {
   "cell_type": "code",
   "execution_count": 2,
   "metadata": {},
   "outputs": [
    {
     "name": "stdout",
     "output_type": "stream",
     "text": [
      "multivariate normal shape = (1000, 100)\n",
      "Vector of expected returns (q):\n",
      "Asset_1      0.595210\n",
      "Asset_2      0.195498\n",
      "Asset_3     -0.251947\n",
      "Asset_4      0.919929\n",
      "Asset_5      0.462610\n",
      "               ...   \n",
      "Asset_96     0.037689\n",
      "Asset_97     0.084909\n",
      "Asset_98     0.335277\n",
      "Asset_99     0.343012\n",
      "Asset_100    0.004601\n",
      "Length: 100, dtype: float64\n",
      "\n",
      "Covariance matrix (P):\n",
      "             Asset_1    Asset_2    Asset_3    Asset_4    Asset_5    Asset_6  \\\n",
      "Asset_1    30.527045  24.172102  21.716706  21.677010  22.026020  23.819406   \n",
      "Asset_2    24.172102  32.285290  23.376448  21.188507  23.890487  23.970297   \n",
      "Asset_3    21.716706  23.376448  30.025649  19.336056  23.484991  23.331819   \n",
      "Asset_4    21.677010  21.188507  19.336056  25.258851  19.953951  21.768271   \n",
      "Asset_5    22.026020  23.890487  23.484991  19.953951  28.463931  24.792515   \n",
      "...              ...        ...        ...        ...        ...        ...   \n",
      "Asset_96   21.934598  22.603875  21.226181  18.353178  22.717647  23.378017   \n",
      "Asset_97   20.527395  21.696213  20.246382  17.349137  20.011671  20.154091   \n",
      "Asset_98   24.984153  26.265670  24.780451  21.713954  23.338348  24.470162   \n",
      "Asset_99   22.014168  21.439296  21.648888  19.263697  21.474120  21.012218   \n",
      "Asset_100  22.643515  24.309311  22.489829  22.084021  22.641374  23.391575   \n",
      "\n",
      "             Asset_7    Asset_8    Asset_9   Asset_10  ...   Asset_91  \\\n",
      "Asset_1    22.083294  25.013229  21.342180  24.711733  ...  23.560403   \n",
      "Asset_2    21.847379  26.407826  24.213066  24.990081  ...  25.576703   \n",
      "Asset_3    23.472559  24.953294  23.095705  22.505777  ...  24.487825   \n",
      "Asset_4    19.047459  23.092588  19.270848  20.301931  ...  20.951773   \n",
      "Asset_5    21.201794  24.881154  22.858671  24.074648  ...  24.444305   \n",
      "...              ...        ...        ...        ...  ...        ...   \n",
      "Asset_96   19.946748  25.241600  22.126137  23.408093  ...  24.261972   \n",
      "Asset_97   18.896965  21.723297  17.754593  22.719073  ...  21.021251   \n",
      "Asset_98   21.936379  27.459274  26.151440  24.238785  ...  26.875450   \n",
      "Asset_99   21.874427  23.259737  21.525591  22.719500  ...  23.978376   \n",
      "Asset_100  21.525433  25.034462  22.904574  24.409651  ...  25.221792   \n",
      "\n",
      "            Asset_92   Asset_93   Asset_94   Asset_95   Asset_96   Asset_97  \\\n",
      "Asset_1    23.429782  23.562471  24.447638  20.750852  21.934598  20.527395   \n",
      "Asset_2    23.147729  23.494686  25.842753  23.765049  22.603875  21.696213   \n",
      "Asset_3    21.826603  21.014157  23.066777  21.575198  21.226181  20.246382   \n",
      "Asset_4    21.915981  20.197306  21.356262  20.251802  18.353178  17.349137   \n",
      "Asset_5    22.032649  22.190069  23.759759  21.820022  22.717647  20.011671   \n",
      "...              ...        ...        ...        ...        ...        ...   \n",
      "Asset_96   21.870861  23.437449  24.502568  19.704912  29.210923  20.286197   \n",
      "Asset_97   19.110117  20.201147  20.634569  19.310857  20.286197  25.151830   \n",
      "Asset_98   23.660209  25.610017  26.068829  22.239801  24.086609  19.442397   \n",
      "Asset_99   20.609366  20.843688  21.585701  20.194062  20.471895  19.800608   \n",
      "Asset_100  23.270673  21.872232  23.239091  22.851093  21.694197  18.761262   \n",
      "\n",
      "            Asset_98   Asset_99  Asset_100  \n",
      "Asset_1    24.984153  22.014168  22.643515  \n",
      "Asset_2    26.265670  21.439296  24.309311  \n",
      "Asset_3    24.780451  21.648888  22.489829  \n",
      "Asset_4    21.713954  19.263697  22.084021  \n",
      "Asset_5    23.338348  21.474120  22.641374  \n",
      "...              ...        ...        ...  \n",
      "Asset_96   24.086609  20.471895  21.694197  \n",
      "Asset_97   19.442397  19.800608  18.761262  \n",
      "Asset_98   33.800489  21.073408  24.840015  \n",
      "Asset_99   21.073408  28.524950  21.244536  \n",
      "Asset_100  24.840015  21.244536  32.101011  \n",
      "\n",
      "[100 rows x 100 columns]\n"
     ]
    }
   ],
   "source": [
    "\n",
    "# Set the dimensions\n",
    "T = 1000  # Number of time periods\n",
    "N = 100   # Number of assets\n",
    "\n",
    "# Generate a random mean vector and covariance matrix for the multivariate normal distribution\n",
    "mean = np.random.rand(N)\n",
    "A = np.random.rand(N, N)\n",
    "cov = np.dot(A, A.transpose())\n",
    "\n",
    "# Generate the Multivariate-Normal random dataset\n",
    "data = np.random.multivariate_normal(mean, cov, size=T)\n",
    "\n",
    "print('multivariate normal shape =', data.shape)\n",
    "\n",
    "# Convert the dataset to a DataFrame for easier manipulation\n",
    "df = pd.DataFrame(data, columns=[f'Asset_{i+1}' for i in range(N)])\n",
    "\n",
    "# Compute the vector of expected returns (mean returns) from df\n",
    "scalefactor = 1\n",
    "expected_return = ExpectedReturn(method='arithmetic', scalefactor = scalefactor)\n",
    "q =  expected_return.estimate(df, inplace = False)\n",
    "\n",
    "# Compute the covariance matrix from df\n",
    "covariance = Covariance(method='pearson')\n",
    "P = covariance.estimate(df, inplace=False)\n",
    "\n",
    "# Display the results\n",
    "print(\"Vector of expected returns (q):\")\n",
    "print(q)\n",
    "\n",
    "print(\"\\nCovariance matrix (P):\")\n",
    "print(P)\n"
   ]
  },
  {
   "cell_type": "code",
   "execution_count": 3,
   "metadata": {},
   "outputs": [
    {
     "name": "stdout",
     "output_type": "stream",
     "text": [
      "0.3352782282011206\n"
     ]
    }
   ],
   "source": [
    "# average return over all assets\n",
    "print(q.mean(axis=0))"
   ]
  },
  {
   "cell_type": "markdown",
   "metadata": {},
   "source": [
    "### 1.b)\n",
    "(3 points)\n",
    "\n",
    "Instantiate a constraints object by injecting column names of the data created in 1.a) as ids and add:\n",
    "- a budget constaint (i.e., asset weights have to sum to one)\n",
    "- lower bounds of 0.0 for all assets\n",
    "- upper bounds of 0.2 for all assets\n",
    "- group contraints such that the sum of the weights of the first 30 assets is <= 0.3, the sum of assets 31 to 60 is <= 0.4 and the sum of assets 61 to 100 is <= 0.5"
   ]
  },
  {
   "cell_type": "code",
   "execution_count": 4,
   "metadata": {},
   "outputs": [],
   "source": [
    "# Instantiate the Constraints class\n",
    "constraints = Constraints(ids = df.columns.tolist())\n",
    "\n",
    "# Add budget constraint\n",
    "constraints.add_budget(rhs=1, sense='=')\n",
    "\n",
    "# Add box constraints (i.e., lower and upper bounds)\n",
    "constraints.add_box(lower=0.0, upper=0.2)\n",
    "\n",
    "# Add linear constraints\n",
    "G = pd.DataFrame(np.zeros((3, N)), columns = constraints.ids)\n",
    "G.iloc[0, 0:30] = 1\n",
    "G.iloc[1, 30:60] = 1\n",
    "G.iloc[2, 60:] = 1\n",
    "h = pd.Series([0.3, 0.4, 0.5])\n",
    "\n",
    "constraints.add_linear(G=G, rhs=h, sense='<=')"
   ]
  },
  {
   "cell_type": "markdown",
   "metadata": {},
   "source": [
    "### 1.c) \n",
    "(4 points)\n",
    "\n",
    "Solve a Mean-Variance optimization problem (using coefficients P and q in the objective function) which satisfies the above defined constraints.\n",
    "Repeat the task for all open-source solvers in qpsolvers and compare the results in terms of:\n",
    "\n",
    "- runtime\n",
    "- accuracy: value of the primal problem.\n",
    "- reliability: are all constarints fulfilled? Extract primal resisduals, dual residuals and duality gap.\n",
    "\n",
    "Generate a DataFrame with the solvers as column names and the following row index: 'solution_found': bool, 'objective': float, 'primal_residual': float, 'dual_residual': float, 'duality_gap': float, 'runtime': float.\n",
    "\n",
    "Put NA's for solvers that failed for some reason (e.g., unable to install the package or solvers throws an error during execution). \n",
    "\n",
    "\n"
   ]
  },
  {
   "cell_type": "code",
   "execution_count": null,
   "metadata": {},
   "outputs": [
    {
     "name": "stdout",
     "output_type": "stream",
     "text": [
      "['daqp', 'qpalm', 'cvxopt', 'highs', 'quadprog', 'osqp']\n"
     ]
    }
   ],
   "source": [
    "# Extract the constraints in the format required by the solver\n",
    "GhAb = constraints.to_GhAb()\n",
    "\n",
    "# Loop over solvers, instantiate the quadratic program, solve it and store the results\n",
    "\n",
    "solver_array = list(USABLE_SOLVERS) # array of available solvers\n",
    "print(solver_array)\n",
    "\n",
    "data = {\n",
    "    'solution_found': [False]*len(solver_array),\n",
    "    'objective': [None] * len(solver_array),\n",
    "    'primal_residual': [float('nan')] * len(solver_array),\n",
    "    'dual_residual': [float('nan')] * len(solver_array),\n",
    "    'duality_gap': [float('nan')] * len(solver_array),\n",
    "    'runtime': [float('nan')] * len(solver_array),\n",
    "}\n",
    "Results_df  = pd.DataFrame(solver_array, index=data)\n",
    "Results_df = Results_df.drop(Results_df.columns[0], axis=1)\n",
    "\n",
    "risk_aversion = 1\n",
    "\n",
    "cvxopt_weights = None\n",
    "\n",
    "for solver in solver_array:\n",
    "    qp = QuadraticProgram(\n",
    "        P = P.to_numpy() * risk_aversion,\n",
    "        q = q.to_numpy() * -1,\n",
    "        G = GhAb['G'],\n",
    "        h = GhAb['h'],\n",
    "        A = GhAb['A'],\n",
    "        b = GhAb['b'],\n",
    "        lb = constraints.box['lower'].to_numpy(),\n",
    "        ub = constraints.box['upper'].to_numpy(),\n",
    "        solver = solver\n",
    "    )\n",
    "    \n",
    "    start_time = time.time()\n",
    "    qp.solve()\n",
    "    end_time = time.time()\n",
    "\n",
    "    execution_time = end_time - start_time\n",
    "\n",
    "    solution = qp.results.get('solution')\n",
    "    Results_df.loc['solution_found', solver] = solution.found\n",
    "\n",
    "    if solution.found:\n",
    "        Results_df.loc['objective', solver] = qp.objective_value()\n",
    "        Results_df.loc['primal_residual', solver] = solution.primal_residual()\n",
    "        Results_df.loc['dual_residual', solver] = solution.dual_residual()\n",
    "        Results_df.loc['duality_gap', solver] = solution.duality_gap()\n",
    "        Results_df.loc['runtime', solver] = execution_time\n",
    "    \n",
    "    # for Question 2\n",
    "    if solver == 'cvxopt':\n",
    "        cvxopt_weights = solution.x\n",
    "        "
   ]
  },
  {
   "cell_type": "markdown",
   "metadata": {},
   "source": [
    "Print and visualize the results"
   ]
  },
  {
   "cell_type": "code",
   "execution_count": 8,
   "metadata": {},
   "outputs": [
    {
     "data": {
      "text/html": [
       "<div>\n",
       "<style scoped>\n",
       "    .dataframe tbody tr th:only-of-type {\n",
       "        vertical-align: middle;\n",
       "    }\n",
       "\n",
       "    .dataframe tbody tr th {\n",
       "        vertical-align: top;\n",
       "    }\n",
       "\n",
       "    .dataframe thead th {\n",
       "        text-align: right;\n",
       "    }\n",
       "</style>\n",
       "<table border=\"1\" class=\"dataframe\">\n",
       "  <thead>\n",
       "    <tr style=\"text-align: right;\">\n",
       "      <th></th>\n",
       "      <th>daqp</th>\n",
       "      <th>qpalm</th>\n",
       "      <th>cvxopt</th>\n",
       "      <th>highs</th>\n",
       "      <th>quadprog</th>\n",
       "      <th>osqp</th>\n",
       "    </tr>\n",
       "  </thead>\n",
       "  <tbody>\n",
       "    <tr>\n",
       "      <th>solution_found</th>\n",
       "      <td>True</td>\n",
       "      <td>True</td>\n",
       "      <td>True</td>\n",
       "      <td>True</td>\n",
       "      <td>True</td>\n",
       "      <td>True</td>\n",
       "    </tr>\n",
       "    <tr>\n",
       "      <th>objective</th>\n",
       "      <td>9.146725</td>\n",
       "      <td>9.14504</td>\n",
       "      <td>9.146725</td>\n",
       "      <td>9.146725</td>\n",
       "      <td>9.146725</td>\n",
       "      <td>9.007536</td>\n",
       "    </tr>\n",
       "    <tr>\n",
       "      <th>primal_residual</th>\n",
       "      <td>0.0</td>\n",
       "      <td>0.000056</td>\n",
       "      <td>0.0</td>\n",
       "      <td>0.0</td>\n",
       "      <td>0.0</td>\n",
       "      <td>0.001817</td>\n",
       "    </tr>\n",
       "    <tr>\n",
       "      <th>dual_residual</th>\n",
       "      <td>0.0</td>\n",
       "      <td>0.0</td>\n",
       "      <td>0.0</td>\n",
       "      <td>0.0</td>\n",
       "      <td>0.0</td>\n",
       "      <td>0.001151</td>\n",
       "    </tr>\n",
       "    <tr>\n",
       "      <th>duality_gap</th>\n",
       "      <td>1.1187495374542777e-10</td>\n",
       "      <td>0.001684148862064816</td>\n",
       "      <td>3.5771434836815074e-07</td>\n",
       "      <td>1.2816176564456327e-08</td>\n",
       "      <td>3.33244543071487e-12</td>\n",
       "      <td>0.13485354314353867</td>\n",
       "    </tr>\n",
       "    <tr>\n",
       "      <th>runtime</th>\n",
       "      <td>0.004</td>\n",
       "      <td>0.015188</td>\n",
       "      <td>0.315224</td>\n",
       "      <td>0.040354</td>\n",
       "      <td>0.006997</td>\n",
       "      <td>0.007842</td>\n",
       "    </tr>\n",
       "  </tbody>\n",
       "</table>\n",
       "</div>"
      ],
      "text/plain": [
       "                                   daqp                 qpalm  \\\n",
       "solution_found                     True                  True   \n",
       "objective                      9.146725               9.14504   \n",
       "primal_residual                     0.0              0.000056   \n",
       "dual_residual                       0.0                   0.0   \n",
       "duality_gap      1.1187495374542777e-10  0.001684148862064816   \n",
       "runtime                           0.004              0.015188   \n",
       "\n",
       "                                 cvxopt                   highs  \\\n",
       "solution_found                     True                    True   \n",
       "objective                      9.146725                9.146725   \n",
       "primal_residual                     0.0                     0.0   \n",
       "dual_residual                       0.0                     0.0   \n",
       "duality_gap      3.5771434836815074e-07  1.2816176564456327e-08   \n",
       "runtime                        0.315224                0.040354   \n",
       "\n",
       "                             quadprog                 osqp  \n",
       "solution_found                   True                 True  \n",
       "objective                    9.146725             9.007536  \n",
       "primal_residual                   0.0             0.001817  \n",
       "dual_residual                     0.0             0.001151  \n",
       "duality_gap      3.33244543071487e-12  0.13485354314353867  \n",
       "runtime                      0.006997             0.007842  "
      ]
     },
     "execution_count": 8,
     "metadata": {},
     "output_type": "execute_result"
    }
   ],
   "source": [
    "#<your code here>\n",
    "Results_df"
   ]
  },
  {
   "cell_type": "code",
   "execution_count": 9,
   "metadata": {},
   "outputs": [
    {
     "data": {
      "text/plain": [
       "<Axes: >"
      ]
     },
     "execution_count": 9,
     "metadata": {},
     "output_type": "execute_result"
    },
    {
     "data": {
      "image/png": "[encoded data removed]",
      "text/plain": [
       "<Figure size 640x480 with 1 Axes>"
      ]
     },
     "metadata": {},
     "output_type": "display_data"
    }
   ],
   "source": [
    "Results_df.loc['objective'].plot(kind='bar')"
   ]
  },
  {
   "cell_type": "code",
   "execution_count": 10,
   "metadata": {},
   "outputs": [
    {
     "data": {
      "text/plain": [
       "<Axes: >"
      ]
     },
     "execution_count": 10,
     "metadata": {},
     "output_type": "execute_result"
    },
    {
     "data": {
      "image/png": "[encoded data removed]",
      "text/plain": [
       "<Figure size 640x480 with 1 Axes>"
      ]
     },
     "metadata": {},
     "output_type": "display_data"
    }
   ],
   "source": [
    "Results_df.loc['runtime'].plot(kind='bar')"
   ]
  },
  {
   "cell_type": "code",
   "execution_count": 11,
   "metadata": {},
   "outputs": [
    {
     "data": {
      "text/plain": [
       "<Axes: >"
      ]
     },
     "execution_count": 11,
     "metadata": {},
     "output_type": "execute_result"
    },
    {
     "data": {
      "image/png": "[encoded data removed]",
      "text/plain": [
       "<Figure size 640x480 with 1 Axes>"
      ]
     },
     "metadata": {},
     "output_type": "display_data"
    }
   ],
   "source": [
    "Results_df.loc['primal_residual'].plot(kind='bar')"
   ]
  },
  {
   "cell_type": "code",
   "execution_count": 12,
   "metadata": {},
   "outputs": [
    {
     "data": {
      "text/plain": [
       "<Axes: >"
      ]
     },
     "execution_count": 12,
     "metadata": {},
     "output_type": "execute_result"
    },
    {
     "data": {
      "image/png": "[encoded data removed]",
      "text/plain": [
       "<Figure size 640x480 with 1 Axes>"
      ]
     },
     "metadata": {},
     "output_type": "display_data"
    }
   ],
   "source": [
    "Results_df.loc['dual_residual'].plot(kind='bar')"
   ]
  },
  {
   "cell_type": "markdown",
   "metadata": {},
   "source": [
    "## 2. Analytical Solution to Minimum-Variance Problem\n",
    "\n",
    "(5 points)\n",
    "\n",
    "- Create a `MinVariance` class that follows the structure of the `MeanVariance` class.\n",
    "- Implement the `solve` method in `MinVariance` such that if `solver_name = 'analytical'`, the analytical solution is computed and stored within the object (if such a solution exists). If not, call the `solve` method from the parent class.\n",
    "- Create a `Constraints` object by injecting the same ids as in part 1.b) and add a budget constraint.\n",
    "- Instantiate a `MinVariance` object by setting `solver_name = 'analytical'` and passing instances of `Constraints` and `Covariance` as arguments.\n",
    "- Create an `OptimizationData` object that contains an element `return_series`, which consists of the synthetic data generated in part 1.a).\n",
    "- Solve the optimization problem using the created `MinVariance` object and compare the results to those obtained in part 1.c).\n"
   ]
  },
  {
   "cell_type": "code",
   "execution_count": null,
   "metadata": {},
   "outputs": [
    {
     "name": "stdout",
     "output_type": "stream",
     "text": [
      "[ 6.83813504  2.85763334  3.70078711 -5.17142214 -1.43813308 -2.79689654\n",
      "  0.6734687   3.83108255 -6.27488262 -1.34625454 -0.46330312  1.22642093\n",
      "  2.38643234 -1.21841055  3.1401366   3.07775154 -1.52538426  1.23406723\n",
      "  0.39497071 -0.07415147 -3.34991028 -4.67774394 -1.06515932 -3.14504621\n",
      " -3.57388984  3.44144069 -1.76449298  1.44542469  2.30683721  4.34352703\n",
      "  7.78106211 -0.20092805 -2.32522811 -4.3984496   1.77523874  0.11190552\n",
      " -5.40572457 -4.77622668  4.55331671  0.24567058  3.91847855  1.18917839\n",
      "  1.52271732  1.60213403 -2.01171366  1.72836486  1.11469895  1.81645883\n",
      " -0.77510758 -0.42166468 -2.77687468 -1.09455296 -2.25411509  4.87331312\n",
      " -0.75120356 -2.57271152 -3.84195904 -7.25546341 -1.74030527  3.5257391\n",
      "  0.03783079 -2.50117714 -0.3899321   2.28660882 -0.01424486 -1.65449638\n",
      " -1.03050451  0.03452063 -5.0839118  -3.26988704  0.87110063 -1.90223553\n",
      "  1.52023298 -2.03517632  1.21548356  2.15677435 -1.75280012  2.65589233\n",
      "  2.00748989 -2.30456934  1.05375763 -0.2164714   8.08095705  0.55805786\n",
      " -0.47193495 -1.59488811 -2.99633861 -1.90352046  2.98297174  2.9734409\n",
      "  2.84685122 -1.9859343  -1.2275378   4.04467107  1.18774744 -1.21567093\n",
      " -1.88533626 -0.50130191  1.65421943  2.60017838]\n",
      "\n",
      " Variance of the mean variance optimal portfolio is 19.25795152477228\n",
      "Variance of the minimum variance portfolio is 0.003151515610963135\n",
      "\n",
      " Mean return of the mean variance optimal portfolio is 0.4822506164046337\n",
      "Mean return of the minimum variance portfolio is -0.1727066366897126\n"
     ]
    }
   ],
   "source": [
    "# Define class MinVariance\n",
    "class MinVariance(Optimization):\n",
    "\n",
    "    def __init__(self,\n",
    "                 constraints: Constraints,\n",
    "                 covariance: Optional[Covariance] = None,\n",
    "                 **kwargs):\n",
    "        super().__init__(\n",
    "            constraints=constraints,\n",
    "            **kwargs\n",
    "        )\n",
    "        self.covariance = Covariance() if covariance is None else covariance\n",
    "\n",
    "    def set_objective(self, optimization_data: OptimizationData) -> None:\n",
    "        #<your code here>\n",
    "        X = optimization_data['return_series']\n",
    "        covmat = self.covariance.estimate(X=X, inplace=False)\n",
    "        self.objective = Objective(\n",
    "            P = covmat # All that is needed for min-var optimization is the covariance matrix\n",
    "        )\n",
    "        return None\n",
    "\n",
    "    def solve(self) -> None:\n",
    "        if self.params.get('solver_name') == 'analytical':\n",
    "            #<your code here>\n",
    "            constraints = self.constraints\n",
    "            GhAb = constraints.to_GhAb()\n",
    "            obj_coeff = self.objective.coefficients\n",
    "\n",
    "            Sigma =(obj_coeff['P']).to_numpy()\n",
    "            A = GhAb['A']\n",
    "            b = GhAb['b']\n",
    "            \n",
    "            try:\n",
    "                # Analytical solution for weights as per lecture notes\n",
    "                weights = np.linalg.inv(Sigma) @ A.T @ np.linalg.inv(A @ np.linalg.inv(Sigma) @ A.T) @ b\n",
    "                self.results.update({\n",
    "                    'weights': weights,\n",
    "                    'status': True\n",
    "                })        \n",
    "                return None\n",
    "            except:\n",
    "                weights = [0]*len(Sigma)\n",
    "                self.results.update({\n",
    "                    'weights': weights,\n",
    "                    'status': False\n",
    "                })        \n",
    "                return None\n",
    "        else:\n",
    "            return super().solve()\n",
    "\n",
    "\n",
    "# Create a constraints object with just a budget constraint\n",
    "constraints_budget = Constraints(ids = df.columns.tolist())\n",
    "constraints_budget.add_budget(rhs=[1], sense='=')\n",
    "\n",
    "# Instantiate the MinVariance class\n",
    "MinVar_portfolio = MinVariance(\n",
    "    constraints=constraints_budget,\n",
    "    solver_name='analytical'\n",
    ")\n",
    "\n",
    "# Prepare the optimization data and prepare the optimization problem\n",
    "optimization_data = OptimizationData(return_series=df)\n",
    "MinVar_portfolio.set_objective(optimization_data=optimization_data)\n",
    "\n",
    "# Solve the optimization problem and print the weights\n",
    "MinVar_portfolio.solve()\n",
    "print(MinVar_portfolio.results.get('weights'))\n",
    "\n",
    "mean_var_weights = cvxopt_weights\n",
    "\n",
    "min_var_weights = MinVar_portfolio.results.get('weights')\n",
    "\n",
    "# compare variance of solutions\n",
    "mean_var_variance = mean_var_weights.T @ P @ mean_var_weights\n",
    "min_var_variance = min_var_weights.T @ P @ min_var_weights\n",
    "print('\\n Variance of the mean variance optimal portfolio is', mean_var_variance)\n",
    "print('Variance of the minimum variance portfolio is', min_var_variance)\n",
    "\n",
    "# compare mean returns of expected solution\n",
    "mean_var_returns = mean_var_weights.T @ q\n",
    "min_var_returns = min_var_weights.T @ q\n",
    "print('\\n Mean return of the mean variance optimal portfolio is', mean_var_returns)\n",
    "print('Mean return of the minimum variance portfolio is', min_var_returns)\n"
   ]
  },
  {
   "cell_type": "code",
   "execution_count": null,
   "metadata": {},
   "outputs": [],
   "source": []
  }
 ],
 "metadata": {
  "kernelspec": {
   "display_name": "proxsuite-testing",
   "language": "python",
   "name": "python3"
  },
  "language_info": {
   "codemirror_mode": {
    "name": "ipython",
    "version": 3
   },
   "file_extension": ".py",
   "mimetype": "text/x-python",
   "name": "python",
   "nbconvert_exporter": "python",
   "pygments_lexer": "ipython3",
   "version": "3.10.2"
  }
 },
 "nbformat": 4,
 "nbformat_minor": 2
}
