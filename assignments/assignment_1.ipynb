{
 "cells": [
  {
   "cell_type": "markdown",
   "metadata": {},
   "source": [
    "# Assignment 1\n",
    "\n",
    "Deadline: 19.03.2025, 12:00 CET\n",
    "\n",
    "<Add your name, student-id and emal address>"
   ]
  },
  {
   "cell_type": "code",
   "execution_count": null,
   "metadata": {},
   "outputs": [
    {
     "name": "stdout",
     "output_type": "stream",
     "text": [
      "1.23.0\n"
     ]
    }
   ],
   "source": [
    "# Import standard libraries\n",
    "import os\n",
    "import sys\n",
    "import timeit # To compute runtimes\n",
    "from typing import Optional\n",
    "\n",
    "# Import third-party libraries\n",
    "import numpy as np\n",
    "import pandas as pd\n",
    "import matplotlib.pyplot as plt\n",
    "\n",
    "# Import local modules\n",
    "project_root = os.path.dirname(os.path.dirname(os.getcwd()))\n",
    "src_path = os.path.join(project_root, 'qpmwp-course\\\\src')\n",
    "sys.path.append(project_root)\n",
    "sys.path.append(src_path)\n",
    "from estimation.covariance import Covariance\n",
    "from estimation.expected_return import ExpectedReturn\n",
    "from optimization.constraints import Constraints\n",
    "from optimization.optimization import Optimization, Objective, MeanVariance\n",
    "from optimization.optimization_data import OptimizationData\n",
    "from optimization.quadratic_program import QuadraticProgram, USABLE_SOLVERS"
   ]
  },
  {
   "cell_type": "markdown",
   "metadata": {},
   "source": [
    "## 1. Solver horse race\n",
    "\n",
    "### 1.a)\n",
    "(3 points)\n",
    "\n",
    "Generate a Multivariate-Normal random dataset of dimension TxN, T=1000, N=100, and compute a vector of expected returns, q, and a covariance matrix, P, using classes ExpectedReturn and Covariance respectively."
   ]
  },
  {
   "cell_type": "code",
   "execution_count": 2,
   "metadata": {},
   "outputs": [
    {
     "name": "stdout",
     "output_type": "stream",
     "text": [
      "multivariate normal shape = (256, 100)\n",
      "Vector of expected returns (q):\n",
      "Asset_1     -0.896383\n",
      "Asset_2     -0.658477\n",
      "Asset_3     -0.818068\n",
      "Asset_4     -0.655145\n",
      "Asset_5     -0.793208\n",
      "               ...   \n",
      "Asset_96    -0.658506\n",
      "Asset_97    -0.811924\n",
      "Asset_98    -0.822901\n",
      "Asset_99    -0.734488\n",
      "Asset_100   -0.797161\n",
      "Length: 100, dtype: float64\n",
      "\n",
      "Covariance matrix (P):\n",
      "            Asset_1   Asset_2   Asset_3   Asset_4   Asset_5   Asset_6  \\\n",
      "Asset_1    0.004502  0.002885  0.003178  0.003588  0.003859  0.003357   \n",
      "Asset_2    0.002885  0.003468  0.002565  0.003105  0.003230  0.003018   \n",
      "Asset_3    0.003178  0.002565  0.003945  0.003269  0.003832  0.003366   \n",
      "Asset_4    0.003588  0.003105  0.003269  0.004793  0.003826  0.003798   \n",
      "Asset_5    0.003859  0.003230  0.003832  0.003826  0.004985  0.003982   \n",
      "...             ...       ...       ...       ...       ...       ...   \n",
      "Asset_96   0.003475  0.002906  0.003227  0.003860  0.003793  0.003644   \n",
      "Asset_97   0.003656  0.002902  0.003171  0.003609  0.003699  0.003324   \n",
      "Asset_98   0.003534  0.002732  0.003223  0.003483  0.003687  0.003438   \n",
      "Asset_99   0.003369  0.002802  0.003185  0.003695  0.003833  0.003654   \n",
      "Asset_100  0.003385  0.002700  0.002756  0.003113  0.003293  0.003075   \n",
      "\n",
      "            Asset_7   Asset_8   Asset_9  Asset_10  ...  Asset_91  Asset_92  \\\n",
      "Asset_1    0.003216  0.003912  0.003445  0.003236  ...  0.003711  0.003607   \n",
      "Asset_2    0.002837  0.003059  0.003079  0.002683  ...  0.003072  0.002939   \n",
      "Asset_3    0.003059  0.003777  0.003196  0.003041  ...  0.003102  0.003405   \n",
      "Asset_4    0.003306  0.004317  0.003634  0.003400  ...  0.003969  0.003737   \n",
      "Asset_5    0.003620  0.004256  0.003757  0.003601  ...  0.003756  0.003921   \n",
      "...             ...       ...       ...       ...  ...       ...       ...   \n",
      "Asset_96   0.003405  0.004147  0.003439  0.003250  ...  0.003614  0.003743   \n",
      "Asset_97   0.003221  0.003912  0.003440  0.003278  ...  0.003646  0.003704   \n",
      "Asset_98   0.003157  0.003596  0.003617  0.003416  ...  0.003675  0.003515   \n",
      "Asset_99   0.003463  0.003977  0.003749  0.003415  ...  0.003761  0.003515   \n",
      "Asset_100  0.002704  0.003371  0.003198  0.003015  ...  0.003538  0.003340   \n",
      "\n",
      "           Asset_93  Asset_94  Asset_95  Asset_96  Asset_97  Asset_98  \\\n",
      "Asset_1    0.003916  0.003710  0.003723  0.003475  0.003656  0.003534   \n",
      "Asset_2    0.003345  0.002965  0.003095  0.002906  0.002902  0.002732   \n",
      "Asset_3    0.003610  0.003611  0.003453  0.003227  0.003171  0.003223   \n",
      "Asset_4    0.004003  0.003915  0.003966  0.003860  0.003609  0.003483   \n",
      "Asset_5    0.004108  0.004149  0.003924  0.003793  0.003699  0.003687   \n",
      "...             ...       ...       ...       ...       ...       ...   \n",
      "Asset_96   0.003955  0.003955  0.003844  0.004710  0.003541  0.003370   \n",
      "Asset_97   0.003823  0.003599  0.003655  0.003541  0.004302  0.003309   \n",
      "Asset_98   0.003946  0.003690  0.003674  0.003370  0.003309  0.004260   \n",
      "Asset_99   0.003826  0.003880  0.003857  0.003635  0.003328  0.003449   \n",
      "Asset_100  0.003619  0.003174  0.003368  0.002968  0.003029  0.003169   \n",
      "\n",
      "           Asset_99  Asset_100  \n",
      "Asset_1    0.003369   0.003385  \n",
      "Asset_2    0.002802   0.002700  \n",
      "Asset_3    0.003185   0.002756  \n",
      "Asset_4    0.003695   0.003113  \n",
      "Asset_5    0.003833   0.003293  \n",
      "...             ...        ...  \n",
      "Asset_96   0.003635   0.002968  \n",
      "Asset_97   0.003328   0.003029  \n",
      "Asset_98   0.003449   0.003169  \n",
      "Asset_99   0.004743   0.003090  \n",
      "Asset_100  0.003090   0.004195  \n",
      "\n",
      "[100 rows x 100 columns]\n"
     ]
    }
   ],
   "source": [
    "\n",
    "# Set the dimensions\n",
    "T = 256  # Number of time periods\n",
    "N = 100   # Number of assets\n",
    "\n",
    "# Generate a random mean vector and covariance matrix for the multivariate normal distribution\n",
    "mean = np.random.uniform(-0.0005, 0.0005, N)\n",
    "A = np.random.uniform(0, 0.0113, size=(N, N))\n",
    "cov = np.dot(A, A.transpose())\n",
    "\n",
    "# Generate the Multivariate-Normal random dataset\n",
    "data = np.random.multivariate_normal(mean, cov, size=T)\n",
    "\n",
    "print('multivariate normal shape =', data.shape)\n",
    "\n",
    "# Convert the dataset to a DataFrame for easier manipulation\n",
    "df = pd.DataFrame(data, columns=[f'Asset_{i+1}' for i in range(N)])\n",
    "\n",
    "# Compute the vector of expected returns (mean returns) from df\n",
    "scalefactor = 256\n",
    "expected_return = ExpectedReturn(method='geometric', scalefactor = scalefactor)\n",
    "q =  expected_return.estimate(df, inplace = False)\n",
    "\n",
    "# Compute the covariance matrix from df\n",
    "covariance = Covariance(method='pearson')\n",
    "P = covariance.estimate(df, inplace=False)\n",
    "\n",
    "# Display the results\n",
    "print(\"Vector of expected returns (q):\")\n",
    "print(q)\n",
    "\n",
    "print(\"\\nCovariance matrix (P):\")\n",
    "print(P)\n"
   ]
  },
  {
   "cell_type": "code",
   "execution_count": 3,
   "metadata": {},
   "outputs": [
    {
     "name": "stdout",
     "output_type": "stream",
     "text": [
      "-0.7384832250226638\n"
     ]
    }
   ],
   "source": [
    "# average return over all assets\n",
    "print(q.mean(axis=0))"
   ]
  },
  {
   "cell_type": "markdown",
   "metadata": {},
   "source": [
    "### 1.b)\n",
    "(3 points)\n",
    "\n",
    "Instantiate a constraints object by injecting column names of the data created in 1.a) as ids and add:\n",
    "- a budget constaint (i.e., asset weights have to sum to one)\n",
    "- lower bounds of 0.0 for all assets\n",
    "- upper bounds of 0.2 for all assets\n",
    "- group contraints such that the sum of the weights of the first 30 assets is <= 0.3, the sum of assets 31 to 60 is <= 0.4 and the sum of assets 61 to 100 is <= 0.5"
   ]
  },
  {
   "cell_type": "code",
   "execution_count": 4,
   "metadata": {},
   "outputs": [],
   "source": [
    "# Instantiate the Constraints class\n",
    "constraints = Constraints(ids = df.columns.tolist())\n",
    "\n",
    "# Add budget constraint\n",
    "constraints.add_budget(rhs=1, sense='=')\n",
    "\n",
    "# Add box constraints (i.e., lower and upper bounds)\n",
    "constraints.add_box(lower=0.0, upper=0.2)\n",
    "\n",
    "# Add linear constraints\n",
    "G = pd.DataFrame(np.zeros((3, N)), columns = constraints.ids)\n",
    "G.iloc[0, 0:30] = 1\n",
    "G.iloc[1, 30:60] = 1\n",
    "G.iloc[2, 60:] = 1\n",
    "h = pd.Series([0.3, 0.4, 0.5])\n",
    "\n",
    "constraints.add_linear(G=G, rhs=h, sense='<=')"
   ]
  },
  {
   "cell_type": "markdown",
   "metadata": {},
   "source": [
    "### 1.c) \n",
    "(4 points)\n",
    "\n",
    "Solve a Mean-Variance optimization problem (using coefficients P and q in the objective function) which satisfies the above defined constraints.\n",
    "Repeat the task for all open-source solvers in qpsolvers and compare the results in terms of:\n",
    "\n",
    "- runtime\n",
    "- accuracy: value of the primal problem.\n",
    "- reliability: are all constarints fulfilled? Extract primal resisduals, dual residuals and duality gap.\n",
    "\n",
    "Generate a DataFrame with the solvers as column names and the following row index: 'solution_found': bool, 'objective': float, 'primal_residual': float, 'dual_residual': float, 'duality_gap': float, 'runtime': float.\n",
    "\n",
    "Put NA's for solvers that failed for some reason (e.g., unable to install the package or solvers throws an error during execution). \n",
    "\n",
    "\n"
   ]
  },
  {
   "cell_type": "code",
   "execution_count": 5,
   "metadata": {},
   "outputs": [
    {
     "name": "stdout",
     "output_type": "stream",
     "text": [
      "['daqp', 'highs', 'osqp', 'qpalm', 'quadprog', 'scs', 'qpax']\n"
     ]
    },
    {
     "ename": "SolverNotFound",
     "evalue": "found solvers ['daqp', 'highs', 'osqp', 'qpalm', 'quadprog', 'scs', 'qpax'] but 'cvxopt' is not one of them; if 'cvxopt' is listed in https://github.com/qpsolvers/qpsolvers#solvers you can run ``pip install qpsolvers[cvxopt]``",
     "output_type": "error",
     "traceback": [
      "\u001b[1;31m---------------------------------------------------------------------------\u001b[0m",
      "\u001b[1;31mKeyError\u001b[0m                                  Traceback (most recent call last)",
      "\u001b[1;32mc:\\Users\\njkel\\anaconda3\\lib\\site-packages\\qpsolvers\\solve_problem.py\u001b[0m in \u001b[0;36msolve_problem\u001b[1;34m(problem, solver, initvals, verbose, **kwargs)\u001b[0m\n\u001b[0;32m     80\u001b[0m     \u001b[1;32mtry\u001b[0m\u001b[1;33m:\u001b[0m\u001b[1;33m\u001b[0m\u001b[1;33m\u001b[0m\u001b[0m\n\u001b[1;32m---> 81\u001b[1;33m         \u001b[1;32mreturn\u001b[0m \u001b[0msolve_function\u001b[0m\u001b[1;33m[\u001b[0m\u001b[0msolver\u001b[0m\u001b[1;33m]\u001b[0m\u001b[1;33m(\u001b[0m\u001b[0mproblem\u001b[0m\u001b[1;33m,\u001b[0m \u001b[1;33m**\u001b[0m\u001b[0mkwargs\u001b[0m\u001b[1;33m)\u001b[0m\u001b[1;33m\u001b[0m\u001b[1;33m\u001b[0m\u001b[0m\n\u001b[0m\u001b[0;32m     82\u001b[0m     \u001b[1;32mexcept\u001b[0m \u001b[0mKeyError\u001b[0m \u001b[1;32mas\u001b[0m \u001b[0me\u001b[0m\u001b[1;33m:\u001b[0m\u001b[1;33m\u001b[0m\u001b[1;33m\u001b[0m\u001b[0m\n",
      "\u001b[1;31mKeyError\u001b[0m: 'cvxopt'",
      "\nThe above exception was the direct cause of the following exception:\n",
      "\u001b[1;31mSolverNotFound\u001b[0m                            Traceback (most recent call last)",
      "\u001b[1;32m~\\AppData\\Local\\Temp/ipykernel_6660/393791317.py\u001b[0m in \u001b[0;36m<module>\u001b[1;34m\u001b[0m\n\u001b[0;32m     19\u001b[0m     \u001b[0mmv\u001b[0m\u001b[1;33m.\u001b[0m\u001b[0mset_objective\u001b[0m\u001b[1;33m(\u001b[0m\u001b[0moptimization_data\u001b[0m\u001b[1;33m=\u001b[0m\u001b[0moptimization_data\u001b[0m\u001b[1;33m)\u001b[0m\u001b[1;33m\u001b[0m\u001b[1;33m\u001b[0m\u001b[0m\n\u001b[0;32m     20\u001b[0m \u001b[1;33m\u001b[0m\u001b[0m\n\u001b[1;32m---> 21\u001b[1;33m     \u001b[0mmv\u001b[0m\u001b[1;33m.\u001b[0m\u001b[0msolve\u001b[0m\u001b[1;33m(\u001b[0m\u001b[1;33m)\u001b[0m\u001b[1;33m\u001b[0m\u001b[1;33m\u001b[0m\u001b[0m\n\u001b[0m\u001b[0;32m     22\u001b[0m     \u001b[0mprint\u001b[0m\u001b[1;33m(\u001b[0m\u001b[0mmv\u001b[0m\u001b[1;33m.\u001b[0m\u001b[0mresults\u001b[0m\u001b[1;33m)\u001b[0m\u001b[1;33m\u001b[0m\u001b[1;33m\u001b[0m\u001b[0m\n\u001b[0;32m     23\u001b[0m     \u001b[1;32mbreak\u001b[0m\u001b[1;33m\u001b[0m\u001b[1;33m\u001b[0m\u001b[0m\n",
      "\u001b[1;32mc:\\Users\\njkel\\OneDrive\\Documents\\Zurich_University\\UZH\\QPMWP\\qpmwp-course\\src\\optimization\\optimization.py\u001b[0m in \u001b[0;36msolve\u001b[1;34m(self)\u001b[0m\n\u001b[0;32m    248\u001b[0m \u001b[1;33m\u001b[0m\u001b[0m\n\u001b[0;32m    249\u001b[0m     \u001b[1;32mdef\u001b[0m \u001b[0msolve\u001b[0m\u001b[1;33m(\u001b[0m\u001b[0mself\u001b[0m\u001b[1;33m)\u001b[0m \u001b[1;33m->\u001b[0m \u001b[1;32mNone\u001b[0m\u001b[1;33m:\u001b[0m\u001b[1;33m\u001b[0m\u001b[1;33m\u001b[0m\u001b[0m\n\u001b[1;32m--> 250\u001b[1;33m         \u001b[1;32mreturn\u001b[0m \u001b[0msuper\u001b[0m\u001b[1;33m(\u001b[0m\u001b[1;33m)\u001b[0m\u001b[1;33m.\u001b[0m\u001b[0msolve\u001b[0m\u001b[1;33m(\u001b[0m\u001b[1;33m)\u001b[0m\u001b[1;33m\u001b[0m\u001b[1;33m\u001b[0m\u001b[0m\n\u001b[0m",
      "\u001b[1;32mc:\\Users\\njkel\\OneDrive\\Documents\\Zurich_University\\UZH\\QPMWP\\qpmwp-course\\src\\optimization\\optimization.py\u001b[0m in \u001b[0;36msolve\u001b[1;34m(self)\u001b[0m\n\u001b[0;32m    132\u001b[0m         \u001b[0mobj_coeff\u001b[0m\u001b[1;33m[\u001b[0m\u001b[1;34m'q'\u001b[0m\u001b[1;33m]\u001b[0m \u001b[1;33m=\u001b[0m \u001b[0mto_numpy\u001b[0m\u001b[1;33m(\u001b[0m\u001b[0mobj_coeff\u001b[0m\u001b[1;33m[\u001b[0m\u001b[1;34m'q'\u001b[0m\u001b[1;33m]\u001b[0m\u001b[1;33m)\u001b[0m\u001b[1;33m\u001b[0m\u001b[1;33m\u001b[0m\u001b[0m\n\u001b[0;32m    133\u001b[0m \u001b[1;33m\u001b[0m\u001b[0m\n\u001b[1;32m--> 134\u001b[1;33m         \u001b[0mself\u001b[0m\u001b[1;33m.\u001b[0m\u001b[0msolve_qpsolvers\u001b[0m\u001b[1;33m(\u001b[0m\u001b[1;33m)\u001b[0m\u001b[1;33m\u001b[0m\u001b[1;33m\u001b[0m\u001b[0m\n\u001b[0m\u001b[0;32m    135\u001b[0m         \u001b[1;32mreturn\u001b[0m \u001b[1;32mNone\u001b[0m\u001b[1;33m\u001b[0m\u001b[1;33m\u001b[0m\u001b[0m\n\u001b[0;32m    136\u001b[0m \u001b[1;33m\u001b[0m\u001b[0m\n",
      "\u001b[1;32mc:\\Users\\njkel\\OneDrive\\Documents\\Zurich_University\\UZH\\QPMWP\\qpmwp-course\\src\\optimization\\optimization.py\u001b[0m in \u001b[0;36msolve_qpsolvers\u001b[1;34m(self)\u001b[0m\n\u001b[0;32m    138\u001b[0m \u001b[1;33m\u001b[0m\u001b[0m\n\u001b[0;32m    139\u001b[0m         \u001b[0mself\u001b[0m\u001b[1;33m.\u001b[0m\u001b[0mmodel_qpsolvers\u001b[0m\u001b[1;33m(\u001b[0m\u001b[1;33m)\u001b[0m\u001b[1;33m\u001b[0m\u001b[1;33m\u001b[0m\u001b[0m\n\u001b[1;32m--> 140\u001b[1;33m         \u001b[0mself\u001b[0m\u001b[1;33m.\u001b[0m\u001b[0mmodel\u001b[0m\u001b[1;33m.\u001b[0m\u001b[0msolve\u001b[0m\u001b[1;33m(\u001b[0m\u001b[1;33m)\u001b[0m\u001b[1;33m\u001b[0m\u001b[1;33m\u001b[0m\u001b[0m\n\u001b[0m\u001b[0;32m    141\u001b[0m \u001b[1;33m\u001b[0m\u001b[0m\n\u001b[0;32m    142\u001b[0m         \u001b[0msolution\u001b[0m \u001b[1;33m=\u001b[0m \u001b[0mself\u001b[0m\u001b[1;33m.\u001b[0m\u001b[0mmodel\u001b[0m\u001b[1;33m.\u001b[0m\u001b[0mresults\u001b[0m\u001b[1;33m[\u001b[0m\u001b[1;34m'solution'\u001b[0m\u001b[1;33m]\u001b[0m\u001b[1;33m\u001b[0m\u001b[1;33m\u001b[0m\u001b[0m\n",
      "\u001b[1;32mc:\\Users\\njkel\\OneDrive\\Documents\\Zurich_University\\UZH\\QPMWP\\qpmwp-course\\src\\optimization\\quadratic_program.py\u001b[0m in \u001b[0;36msolve\u001b[1;34m(self)\u001b[0m\n\u001b[0;32m    180\u001b[0m \u001b[1;33m\u001b[0m\u001b[0m\n\u001b[0;32m    181\u001b[0m         \u001b[1;31m# Solve the problem\u001b[0m\u001b[1;33m\u001b[0m\u001b[1;33m\u001b[0m\u001b[0m\n\u001b[1;32m--> 182\u001b[1;33m         solution = qpsolvers.solve_problem(\n\u001b[0m\u001b[0;32m    183\u001b[0m             \u001b[0mproblem\u001b[0m\u001b[1;33m=\u001b[0m\u001b[0mproblem\u001b[0m\u001b[1;33m,\u001b[0m\u001b[1;33m\u001b[0m\u001b[1;33m\u001b[0m\u001b[0m\n\u001b[0;32m    184\u001b[0m             \u001b[0msolver\u001b[0m\u001b[1;33m=\u001b[0m\u001b[0mself\u001b[0m\u001b[1;33m.\u001b[0m\u001b[0msolver_settings\u001b[0m\u001b[1;33m[\u001b[0m\u001b[1;34m'solver'\u001b[0m\u001b[1;33m]\u001b[0m\u001b[1;33m,\u001b[0m\u001b[1;33m\u001b[0m\u001b[1;33m\u001b[0m\u001b[0m\n",
      "\u001b[1;32mc:\\Users\\njkel\\anaconda3\\lib\\site-packages\\qpsolvers\\solve_problem.py\u001b[0m in \u001b[0;36msolve_problem\u001b[1;34m(problem, solver, initvals, verbose, **kwargs)\u001b[0m\n\u001b[0;32m     81\u001b[0m         \u001b[1;32mreturn\u001b[0m \u001b[0msolve_function\u001b[0m\u001b[1;33m[\u001b[0m\u001b[0msolver\u001b[0m\u001b[1;33m]\u001b[0m\u001b[1;33m(\u001b[0m\u001b[0mproblem\u001b[0m\u001b[1;33m,\u001b[0m \u001b[1;33m**\u001b[0m\u001b[0mkwargs\u001b[0m\u001b[1;33m)\u001b[0m\u001b[1;33m\u001b[0m\u001b[1;33m\u001b[0m\u001b[0m\n\u001b[0;32m     82\u001b[0m     \u001b[1;32mexcept\u001b[0m \u001b[0mKeyError\u001b[0m \u001b[1;32mas\u001b[0m \u001b[0me\u001b[0m\u001b[1;33m:\u001b[0m\u001b[1;33m\u001b[0m\u001b[1;33m\u001b[0m\u001b[0m\n\u001b[1;32m---> 83\u001b[1;33m         raise SolverNotFound(\n\u001b[0m\u001b[0;32m     84\u001b[0m             \u001b[1;34mf\"found solvers {available_solvers} \"\u001b[0m\u001b[1;33m\u001b[0m\u001b[1;33m\u001b[0m\u001b[0m\n\u001b[0;32m     85\u001b[0m             \u001b[1;34mf\"but '{solver}' is not one of them; if '{solver}' is \"\u001b[0m\u001b[1;33m\u001b[0m\u001b[1;33m\u001b[0m\u001b[0m\n",
      "\u001b[1;31mSolverNotFound\u001b[0m: found solvers ['daqp', 'highs', 'osqp', 'qpalm', 'quadprog', 'scs', 'qpax'] but 'cvxopt' is not one of them; if 'cvxopt' is listed in https://github.com/qpsolvers/qpsolvers#solvers you can run ``pip install qpsolvers[cvxopt]``"
     ]
    }
   ],
   "source": [
    "# Extract the constraints in the format required by the solver\n",
    "GhAb = constraints.to_GhAb()\n",
    "\n",
    "# Loop over solvers, instantiate the quadratic program, solve it and store the results\n",
    "import qpsolvers\n",
    "\n",
    "print(qpsolvers.available_solvers)\n",
    "solver_array = ['daqp']\n",
    "for solver in solver_array:\n",
    "    mv = MeanVariance(\n",
    "        covariance=covariance,\n",
    "        expected_return=expected_return,\n",
    "        constraints=constraints,\n",
    "        risk_aversion=1,\n",
    "        solver_name=solver,\n",
    "    )\n",
    "    optimization_data = OptimizationData(return_series=df)\n",
    "    \n",
    "    mv.set_objective(optimization_data=optimization_data)\n",
    "\n",
    "    mv.solve()\n",
    "    print(mv.results)\n",
    "    break"
   ]
  },
  {
   "cell_type": "markdown",
   "metadata": {},
   "source": [
    "Print and visualize the results"
   ]
  },
  {
   "cell_type": "code",
   "execution_count": 5,
   "metadata": {},
   "outputs": [],
   "source": [
    "#<your code here>"
   ]
  },
  {
   "cell_type": "markdown",
   "metadata": {},
   "source": [
    "## 2. Analytical Solution to Minimum-Variance Problem\n",
    "\n",
    "(5 points)\n",
    "\n",
    "- Create a `MinVariance` class that follows the structure of the `MeanVariance` class.\n",
    "- Implement the `solve` method in `MinVariance` such that if `solver_name = 'analytical'`, the analytical solution is computed and stored within the object (if such a solution exists). If not, call the `solve` method from the parent class.\n",
    "- Create a `Constraints` object by injecting the same ids as in part 1.b) and add a budget constraint.\n",
    "- Instantiate a `MinVariance` object by setting `solver_name = 'analytical'` and passing instances of `Constraints` and `Covariance` as arguments.\n",
    "- Create an `OptimizationData` object that contains an element `return_series`, which consists of the synthetic data generated in part 1.a).\n",
    "- Solve the optimization problem using the created `MinVariance` object and compare the results to those obtained in part 1.c).\n"
   ]
  },
  {
   "cell_type": "code",
   "execution_count": null,
   "metadata": {},
   "outputs": [],
   "source": [
    "# Define class MinVariance\n",
    "class MinVariance(Optimization):\n",
    "\n",
    "    def __init__(self,\n",
    "                 constraints: Constraints,\n",
    "                 covariance: Optional[Covariance] = None,\n",
    "                 **kwargs):\n",
    "        super().__init__(\n",
    "            constraints=constraints,\n",
    "            **kwargs\n",
    "        )\n",
    "        self.covariance = Covariance() if covariance is None else covariance\n",
    "\n",
    "    def set_objective(self, optimization_data: OptimizationData) -> None:\n",
    "        #<your code here>\n",
    "\n",
    "    def solve(self) -> None:\n",
    "        if self.params.get('solver_name') == 'analytical':\n",
    "            #<your code here>\n",
    "            return None\n",
    "        else:\n",
    "            return super().solve()\n",
    "\n",
    "\n",
    "# Create a constraints object with just a budget constraint\n",
    "#<your code here>\n",
    "\n",
    "# Instantiate the MinVariance class\n",
    "#<your code here>\n",
    "\n",
    "# Prepare the optimization data and prepare the optimization problem\n",
    "#<your code here>\n",
    "\n",
    "# Solve the optimization problem and print the weights\n",
    "#<your code here>"
   ]
  }
 ],
 "metadata": {
  "kernelspec": {
   "display_name": "base",
   "language": "python",
   "name": "python3"
  },
  "language_info": {
   "codemirror_mode": {
    "name": "ipython",
    "version": 3
   },
   "file_extension": ".py",
   "mimetype": "text/x-python",
   "name": "python",
   "nbconvert_exporter": "python",
   "pygments_lexer": "ipython3",
   "version": "3.9.7"
  }
 },
 "nbformat": 4,
 "nbformat_minor": 2
}
