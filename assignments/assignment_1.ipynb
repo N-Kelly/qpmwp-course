{
 "cells": [
  {
   "cell_type": "markdown",
   "metadata": {},
   "source": [
    "# Assignment 1\n",
    "\n",
    "Deadline: 19.03.2025, 12:00 CET\n",
    "\n",
    "<Add your name, student-id and emal address>"
   ]
  },
  {
   "cell_type": "code",
   "execution_count": 1,
   "metadata": {},
   "outputs": [],
   "source": [
    "# Import standard libraries\n",
    "import os\n",
    "import sys\n",
    "import timeit # To compute runtimes\n",
    "from typing import Optional\n",
    "\n",
    "# Import third-party libraries\n",
    "import numpy as np\n",
    "import pandas as pd\n",
    "import matplotlib.pyplot as plt\n",
    "\n",
    "# Import local modules\n",
    "project_root = os.path.dirname(os.path.dirname(os.getcwd()))\n",
    "src_path = os.path.join(project_root, 'qpmwp-course\\\\src')\n",
    "sys.path.append(project_root)\n",
    "sys.path.append(src_path)\n",
    "from estimation.covariance import Covariance\n",
    "from estimation.expected_return import ExpectedReturn\n",
    "from optimization.constraints import Constraints\n",
    "from optimization.optimization import Optimization, Objective, MeanVariance\n",
    "from optimization.optimization_data import OptimizationData\n",
    "from optimization.quadratic_program import QuadraticProgram, USABLE_SOLVERS"
   ]
  },
  {
   "cell_type": "markdown",
   "metadata": {},
   "source": [
    "## 1. Solver Horse Race\n",
    "\n",
    "### 1.a)\n",
    "(3 points)\n",
    "\n",
    "Generate a Multivariate-Normal random dataset of dimension TxN, T=1000, N=100, and compute a vector of expected returns, q, and a covariance matrix, P, using classes ExpectedReturn and Covariance respectively."
   ]
  },
  {
   "cell_type": "code",
   "execution_count": 2,
   "metadata": {},
   "outputs": [
    {
     "name": "stdout",
     "output_type": "stream",
     "text": [
      "multivariate normal shape = (1000, 100)\n",
      "Vector of expected returns (q):\n",
      "Asset_1     -0.485704\n",
      "Asset_2     -0.634514\n",
      "Asset_3     -0.501745\n",
      "Asset_4     -0.529102\n",
      "Asset_5     -0.664059\n",
      "               ...   \n",
      "Asset_96    -0.706868\n",
      "Asset_97    -0.325534\n",
      "Asset_98    -0.660473\n",
      "Asset_99    -0.486837\n",
      "Asset_100   -0.485810\n",
      "Length: 100, dtype: float64\n",
      "\n",
      "Covariance matrix (P):\n",
      "            Asset_1   Asset_2   Asset_3   Asset_4   Asset_5   Asset_6  \\\n",
      "Asset_1    0.004586  0.003094  0.003086  0.003315  0.003492  0.002952   \n",
      "Asset_2    0.003094  0.004124  0.003141  0.003169  0.003409  0.003009   \n",
      "Asset_3    0.003086  0.003141  0.004171  0.003124  0.003269  0.002871   \n",
      "Asset_4    0.003315  0.003169  0.003124  0.004135  0.003149  0.002821   \n",
      "Asset_5    0.003492  0.003409  0.003269  0.003149  0.004662  0.003179   \n",
      "...             ...       ...       ...       ...       ...       ...   \n",
      "Asset_96   0.003157  0.002967  0.002990  0.003082  0.003402  0.002773   \n",
      "Asset_97   0.002950  0.002987  0.002763  0.002869  0.003189  0.002643   \n",
      "Asset_98   0.003416  0.003116  0.003097  0.003296  0.003364  0.002795   \n",
      "Asset_99   0.002909  0.002792  0.002549  0.002483  0.003085  0.002639   \n",
      "Asset_100  0.003384  0.002983  0.003033  0.003161  0.003154  0.002639   \n",
      "\n",
      "            Asset_7   Asset_8   Asset_9  Asset_10  ...  Asset_91  Asset_92  \\\n",
      "Asset_1    0.003324  0.003156  0.003162  0.003317  ...  0.003180  0.003491   \n",
      "Asset_2    0.003154  0.002833  0.003019  0.003163  ...  0.003093  0.003354   \n",
      "Asset_3    0.003289  0.002908  0.002938  0.003184  ...  0.002879  0.003140   \n",
      "Asset_4    0.002926  0.002913  0.002832  0.003093  ...  0.002925  0.003198   \n",
      "Asset_5    0.003359  0.003285  0.003333  0.003262  ...  0.003245  0.003105   \n",
      "...             ...       ...       ...       ...  ...       ...       ...   \n",
      "Asset_96   0.002900  0.002861  0.002914  0.002791  ...  0.002653  0.003003   \n",
      "Asset_97   0.003028  0.002407  0.002750  0.002827  ...  0.002803  0.002802   \n",
      "Asset_98   0.003322  0.003152  0.003088  0.003232  ...  0.003205  0.003428   \n",
      "Asset_99   0.002703  0.002656  0.002602  0.002837  ...  0.002615  0.002736   \n",
      "Asset_100  0.003127  0.002992  0.002795  0.003114  ...  0.002979  0.003250   \n",
      "\n",
      "           Asset_93  Asset_94  Asset_95  Asset_96  Asset_97  Asset_98  \\\n",
      "Asset_1    0.003183  0.003458  0.002940  0.003157  0.002950  0.003416   \n",
      "Asset_2    0.003112  0.003198  0.002830  0.002967  0.002987  0.003116   \n",
      "Asset_3    0.002718  0.003389  0.002806  0.002990  0.002763  0.003097   \n",
      "Asset_4    0.002911  0.003264  0.002794  0.003082  0.002869  0.003296   \n",
      "Asset_5    0.003127  0.003619  0.002871  0.003402  0.003189  0.003364   \n",
      "...             ...       ...       ...       ...       ...       ...   \n",
      "Asset_96   0.002783  0.002900  0.002755  0.004132  0.002677  0.003094   \n",
      "Asset_97   0.002549  0.002937  0.002515  0.002677  0.003493  0.002975   \n",
      "Asset_98   0.003212  0.003215  0.002862  0.003094  0.002975  0.004439   \n",
      "Asset_99   0.002824  0.002832  0.002166  0.002593  0.002506  0.002799   \n",
      "Asset_100  0.003012  0.003164  0.002838  0.002968  0.002679  0.003415   \n",
      "\n",
      "           Asset_99  Asset_100  \n",
      "Asset_1    0.002909   0.003384  \n",
      "Asset_2    0.002792   0.002983  \n",
      "Asset_3    0.002549   0.003033  \n",
      "Asset_4    0.002483   0.003161  \n",
      "Asset_5    0.003085   0.003154  \n",
      "...             ...        ...  \n",
      "Asset_96   0.002593   0.002968  \n",
      "Asset_97   0.002506   0.002679  \n",
      "Asset_98   0.002799   0.003415  \n",
      "Asset_99   0.003365   0.002840  \n",
      "Asset_100  0.002840   0.004240  \n",
      "\n",
      "[100 rows x 100 columns]\n"
     ]
    }
   ],
   "source": [
    "\n",
    "# Set the dimensions\n",
    "T = 1000  # Number of time periods\n",
    "N = 100   # Number of assets\n",
    "\n",
    "# Generate a random mean vector and covariance matrix for the multivariate normal distribution\n",
    "mean = np.random.uniform(-0.0005, 0.0005, N)\n",
    "A = np.random.uniform(0, 0.0113, size=(N, N))\n",
    "cov = np.dot(A, A.transpose())\n",
    "\n",
    "# Generate the Multivariate-Normal random dataset\n",
    "data = np.random.multivariate_normal(mean, cov, size=T)\n",
    "\n",
    "print('multivariate normal shape =', data.shape)\n",
    "\n",
    "# Convert the dataset to a DataFrame for easier manipulation\n",
    "df = pd.DataFrame(data, columns=[f'Asset_{i+1}' for i in range(N)])\n",
    "\n",
    "# Compute the vector of expected returns (mean returns) from df\n",
    "scalefactor = 256\n",
    "expected_return = ExpectedReturn(method='geometric', scalefactor = scalefactor)\n",
    "q =  expected_return.estimate(df, inplace = False)\n",
    "\n",
    "# Compute the covariance matrix from df\n",
    "covariance = Covariance(method='pearson')\n",
    "P = covariance.estimate(df, inplace=False)\n",
    "\n",
    "# Display the results\n",
    "print(\"Vector of expected returns (q):\")\n",
    "print(q)\n",
    "\n",
    "print(\"\\nCovariance matrix (P):\")\n",
    "print(P)\n"
   ]
  },
  {
   "cell_type": "code",
   "execution_count": 3,
   "metadata": {},
   "outputs": [
    {
     "name": "stdout",
     "output_type": "stream",
     "text": [
      "-0.5058759988256177\n"
     ]
    }
   ],
   "source": [
    "# average return over all assets\n",
    "print(q.mean(axis=0))"
   ]
  },
  {
   "cell_type": "markdown",
   "metadata": {},
   "source": [
    "### 1.b)\n",
    "(3 points)\n",
    "\n",
    "Instantiate a constraints object by injecting column names of the data created in 1.a) as ids and add:\n",
    "- a budget constaint (i.e., asset weights have to sum to one)\n",
    "- lower bounds of 0.0 for all assets\n",
    "- upper bounds of 0.2 for all assets\n",
    "- group contraints such that the sum of the weights of the first 30 assets is <= 0.3, the sum of assets 31 to 60 is <= 0.4 and the sum of assets 61 to 100 is <= 0.5"
   ]
  },
  {
   "cell_type": "code",
   "execution_count": 4,
   "metadata": {},
   "outputs": [],
   "source": [
    "# Instantiate the Constraints class\n",
    "constraints = Constraints(ids = df.columns.tolist())\n",
    "\n",
    "# Add budget constraint\n",
    "constraints.add_budget(rhs=1, sense='=')\n",
    "\n",
    "# Add box constraints (i.e., lower and upper bounds)\n",
    "constraints.add_box(lower=0.0, upper=0.2)\n",
    "\n",
    "# Add linear constraints\n",
    "G = pd.DataFrame(np.zeros((3, N)), columns = constraints.ids)\n",
    "G.iloc[0, 0:30] = 1\n",
    "G.iloc[1, 30:60] = 1\n",
    "G.iloc[2, 60:] = 1\n",
    "h = pd.Series([0.3, 0.4, 0.5])\n",
    "\n",
    "constraints.add_linear(G=G, rhs=h, sense='<=')"
   ]
  },
  {
   "cell_type": "markdown",
   "metadata": {},
   "source": [
    "### 1.c) \n",
    "(4 points)\n",
    "\n",
    "Solve a Mean-Variance optimization problem (using coefficients P and q in the objective function) which satisfies the above defined constraints.\n",
    "Repeat the task for all open-source solvers in qpsolvers and compare the results in terms of:\n",
    "\n",
    "- runtime\n",
    "- accuracy: value of the primal problem.\n",
    "- reliability: are all constarints fulfilled? Extract primal resisduals, dual residuals and duality gap.\n",
    "\n",
    "Generate a DataFrame with the solvers as column names and the following row index: 'solution_found': bool, 'objective': float, 'primal_residual': float, 'dual_residual': float, 'duality_gap': float, 'runtime': float.\n",
    "\n",
    "Put NA's for solvers that failed for some reason (e.g., unable to install the package or solvers throws an error during execution). \n",
    "\n",
    "\n"
   ]
  },
  {
   "cell_type": "code",
   "execution_count": null,
   "metadata": {},
   "outputs": [],
   "source": [
    "# Extract the constraints in the format required by the solver\n",
    "GhAb = constraints.to_GhAb()\n",
    "\n",
    "# Loop over solvers, instantiate the quadratic program, solve it and store the results\n",
    "import qpsolvers\n",
    "\n",
    "solver_array = qpsolvers.available_solvers # array of available solvers\n",
    "\n",
    "data = {\n",
    "    'solution_found': [False]*len(solver_array),\n",
    "    'objective': [None] * len(solver_array),\n",
    "    'primal_residual': [float('nan')] * len(solver_array),\n",
    "    'dual_residual': [float('nan')] * len(solver_array),\n",
    "    'duality_gap': [float('nan')] * len(solver_array),\n",
    "    'runtime': [float('nan')] * len(solver_array),\n",
    "}\n",
    "Results_df  = pd.DataFrame(data, index=solver_array)\n",
    "\n",
    "for solver in solver_array:\n",
    "    mv = MeanVariance(\n",
    "        covariance=covariance,\n",
    "        expected_return=expected_return,\n",
    "        constraints=constraints,\n",
    "        risk_aversion=1,\n",
    "        solver_name=solver,\n",
    "    )\n",
    "    optimization_data = OptimizationData(return_series=df)\n",
    "    \n",
    "    mv.set_objective(optimization_data=optimization_data)\n",
    "\n",
    "    mv.solve()\n",
    "\n",
    "    optimal_w = pd.Series(mv.results['weights'], index=df.columns)\n",
    "\n",
    "    # calculating residuals\n",
    "    r_budget = optimal_w.sum() - 1\n",
    "    r_lower = sum([w for w in optimal_w if w<0])\n",
    "    r_upper = sum([w-0.2 for w in optimal_w if w>0.2])\n",
    "    r_group1 = 0\n",
    "    r_group2 = 0\n",
    "    r_group3 = 0\n",
    "    if sum(optimal_w[:30]) > 0.3:\n",
    "        r_group1 = sum(optimal_w[:30]) - 0.3\n",
    "    if sum(optimal_w[31:60]) > 0.4:\n",
    "        r_group2 = sum(optimal_w[31:60]) - 0.4\n",
    "    if sum(optimal_w[61:100]) > 0.5:\n",
    "        r_group3 = sum(optimal_w[61:100]) - 0.5\n",
    "\n",
    "    r_array = np.array([r_budget, r_lower, r_upper, r_group1, r_group2, r_group3])\n",
    "\n",
    "    Results_df.loc[solver, 'solution_found'] = mv.results['status']\n",
    "    Results_df.loc[solver, 'objective'] = (-1*optimal_w @ q) + (optimal_w @ P @ optimal_w.T)\n",
    "    Results_df.loc[solver, 'primal_residual'] = np.linalg.norm(r_array)\n",
    "    "
   ]
  },
  {
   "cell_type": "markdown",
   "metadata": {},
   "source": [
    "Print and visualize the results"
   ]
  },
  {
   "cell_type": "code",
   "execution_count": 74,
   "metadata": {},
   "outputs": [
    {
     "name": "stdout",
     "output_type": "stream",
     "text": [
      "clarabel   -1.597891\n",
      "cvxopt     -1.597891\n",
      "daqp       -1.597891\n",
      "ecos       -1.597891\n",
      "highs      -1.597891\n",
      "osqp       -1.597891\n",
      "piqp       -1.597891\n",
      "qpalm      -1.597891\n",
      "quadprog   -1.597891\n",
      "scs        -1.597891\n",
      "qpax       -1.597891\n",
      "Name: objective, dtype: object\n"
     ]
    },
    {
     "data": {
      "text/plain": [
       "<Axes: >"
      ]
     },
     "execution_count": 74,
     "metadata": {},
     "output_type": "execute_result"
    },
    {
     "data": {
      "image/png": "[encoded data removed]",
      "text/plain": [
       "<Figure size 640x480 with 1 Axes>"
      ]
     },
     "metadata": {},
     "output_type": "display_data"
    }
   ],
   "source": [
    "#<your code here>\n",
    "print(Results_df['objective'])\n",
    "Results_df['primal_residual'].plot(kind='bar')"
   ]
  },
  {
   "cell_type": "markdown",
   "metadata": {},
   "source": [
    "## 2. Analytical Solution to Minimum-Variance Problem\n",
    "\n",
    "(5 points)\n",
    "\n",
    "- Create a `MinVariance` class that follows the structure of the `MeanVariance` class.\n",
    "- Implement the `solve` method in `MinVariance` such that if `solver_name = 'analytical'`, the analytical solution is computed and stored within the object (if such a solution exists). If not, call the `solve` method from the parent class.\n",
    "- Create a `Constraints` object by injecting the same ids as in part 1.b) and add a budget constraint.\n",
    "- Instantiate a `MinVariance` object by setting `solver_name = 'analytical'` and passing instances of `Constraints` and `Covariance` as arguments.\n",
    "- Create an `OptimizationData` object that contains an element `return_series`, which consists of the synthetic data generated in part 1.a).\n",
    "- Solve the optimization problem using the created `MinVariance` object and compare the results to those obtained in part 1.c).\n"
   ]
  },
  {
   "cell_type": "code",
   "execution_count": null,
   "metadata": {},
   "outputs": [],
   "source": [
    "# Define class MinVariance\n",
    "class MinVariance(Optimization):\n",
    "\n",
    "    def __init__(self,\n",
    "                 constraints: Constraints,\n",
    "                 covariance: Optional[Covariance] = None,\n",
    "                 **kwargs):\n",
    "        super().__init__(\n",
    "            constraints=constraints,\n",
    "            **kwargs\n",
    "        )\n",
    "        self.covariance = Covariance() if covariance is None else covariance\n",
    "\n",
    "    def set_objective(self, optimization_data: OptimizationData) -> None:\n",
    "        #<your code here>\n",
    "\n",
    "    def solve(self) -> None:\n",
    "        if self.params.get('solver_name') == 'analytical':\n",
    "            #<your code here>\n",
    "            return None\n",
    "        else:\n",
    "            return super().solve()\n",
    "\n",
    "\n",
    "# Create a constraints object with just a budget constraint\n",
    "#<your code here>\n",
    "\n",
    "# Instantiate the MinVariance class\n",
    "#<your code here>\n",
    "\n",
    "# Prepare the optimization data and prepare the optimization problem\n",
    "#<your code here>\n",
    "\n",
    "# Solve the optimization problem and print the weights\n",
    "#<your code here>"
   ]
  }
 ],
 "metadata": {
  "kernelspec": {
   "display_name": "proxsuite-testing",
   "language": "python",
   "name": "python3"
  },
  "language_info": {
   "codemirror_mode": {
    "name": "ipython",
    "version": 3
   },
   "file_extension": ".py",
   "mimetype": "text/x-python",
   "name": "python",
   "nbconvert_exporter": "python",
   "pygments_lexer": "ipython3",
   "version": "3.10.2"
  }
 },
 "nbformat": 4,
 "nbformat_minor": 2
}
