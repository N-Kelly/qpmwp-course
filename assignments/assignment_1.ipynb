{
 "cells": [
  {
   "cell_type": "markdown",
   "metadata": {},
   "source": [
    "# Assignment 1\n",
    "\n",
    "Deadline: 19.03.2025, 12:00 CET\n",
    "\n",
    "<Add your name, student-id and emal address>"
   ]
  },
  {
   "cell_type": "code",
   "execution_count": 9,
   "metadata": {},
   "outputs": [],
   "source": [
    "# Import standard libraries\n",
    "import os\n",
    "import sys\n",
    "import timeit # To compute runtimes\n",
    "import time\n",
    "from typing import Optional\n",
    "\n",
    "# Import third-party libraries\n",
    "import numpy as np\n",
    "import pandas as pd\n",
    "import matplotlib.pyplot as plt\n",
    "\n",
    "# Import local modules\n",
    "project_root = os.path.dirname(os.path.dirname(os.getcwd()))\n",
    "src_path = os.path.join(project_root, 'qpmwp-course\\\\src')\n",
    "sys.path.append(project_root)\n",
    "sys.path.append(src_path)\n",
    "from estimation.covariance import Covariance\n",
    "from estimation.expected_return import ExpectedReturn\n",
    "from optimization.constraints import Constraints\n",
    "from optimization.optimization import Optimization, Objective, MeanVariance\n",
    "from optimization.optimization_data import OptimizationData\n",
    "from optimization.quadratic_program import QuadraticProgram, USABLE_SOLVERS"
   ]
  },
  {
   "cell_type": "markdown",
   "metadata": {},
   "source": [
    "## 1. Solver Horse Race\n",
    "\n",
    "### 1.a)\n",
    "(3 points)\n",
    "\n",
    "Generate a Multivariate-Normal random dataset of dimension TxN, T=1000, N=100, and compute a vector of expected returns, q, and a covariance matrix, P, using classes ExpectedReturn and Covariance respectively."
   ]
  },
  {
   "cell_type": "code",
   "execution_count": 3,
   "metadata": {},
   "outputs": [
    {
     "name": "stdout",
     "output_type": "stream",
     "text": [
      "multivariate normal shape = (1000, 100)\n",
      "Vector of expected returns (q):\n",
      "Asset_1     -0.507634\n",
      "Asset_2     -0.213798\n",
      "Asset_3     -0.339238\n",
      "Asset_4     -0.210675\n",
      "Asset_5     -0.502688\n",
      "               ...   \n",
      "Asset_96    -0.271002\n",
      "Asset_97    -0.518242\n",
      "Asset_98    -0.278267\n",
      "Asset_99     0.045686\n",
      "Asset_100   -0.265016\n",
      "Length: 100, dtype: float64\n",
      "\n",
      "Covariance matrix (P):\n",
      "            Asset_1   Asset_2   Asset_3   Asset_4   Asset_5   Asset_6  \\\n",
      "Asset_1    0.005085  0.003491  0.003781  0.003705  0.003983  0.003758   \n",
      "Asset_2    0.003491  0.004588  0.003045  0.003282  0.003276  0.003643   \n",
      "Asset_3    0.003781  0.003045  0.004371  0.003430  0.003570  0.003447   \n",
      "Asset_4    0.003705  0.003282  0.003430  0.004577  0.003649  0.003643   \n",
      "Asset_5    0.003983  0.003276  0.003570  0.003649  0.004592  0.003739   \n",
      "...             ...       ...       ...       ...       ...       ...   \n",
      "Asset_96   0.003498  0.003193  0.003483  0.003397  0.003232  0.003318   \n",
      "Asset_97   0.003447  0.003108  0.003166  0.003178  0.003411  0.003278   \n",
      "Asset_98   0.003400  0.003045  0.003467  0.003394  0.003506  0.003416   \n",
      "Asset_99   0.003624  0.003280  0.003206  0.003532  0.003538  0.003863   \n",
      "Asset_100  0.004370  0.003747  0.003763  0.003963  0.003813  0.003968   \n",
      "\n",
      "            Asset_7   Asset_8   Asset_9  Asset_10  ...  Asset_91  Asset_92  \\\n",
      "Asset_1    0.004044  0.003374  0.003704  0.003277  ...  0.003989  0.003626   \n",
      "Asset_2    0.003421  0.003195  0.003134  0.002965  ...  0.003239  0.003375   \n",
      "Asset_3    0.003390  0.003099  0.003578  0.003068  ...  0.003710  0.003315   \n",
      "Asset_4    0.003477  0.003278  0.003513  0.002962  ...  0.003520  0.003491   \n",
      "Asset_5    0.003739  0.003588  0.003726  0.003283  ...  0.003755  0.003463   \n",
      "...             ...       ...       ...       ...  ...       ...       ...   \n",
      "Asset_96   0.003602  0.003072  0.003487  0.002937  ...  0.003518  0.003367   \n",
      "Asset_97   0.003449  0.003295  0.003347  0.002951  ...  0.003390  0.003220   \n",
      "Asset_98   0.003533  0.003062  0.003442  0.002979  ...  0.003536  0.003306   \n",
      "Asset_99   0.003729  0.003316  0.003509  0.003178  ...  0.003676  0.003525   \n",
      "Asset_100  0.003934  0.003494  0.003783  0.003266  ...  0.003803  0.003641   \n",
      "\n",
      "           Asset_93  Asset_94  Asset_95  Asset_96  Asset_97  Asset_98  \\\n",
      "Asset_1    0.003802  0.003425  0.004211  0.003498  0.003447  0.003400   \n",
      "Asset_2    0.003301  0.002935  0.003583  0.003193  0.003108  0.003045   \n",
      "Asset_3    0.003525  0.003162  0.003838  0.003483  0.003166  0.003467   \n",
      "Asset_4    0.003424  0.003035  0.003780  0.003397  0.003178  0.003394   \n",
      "Asset_5    0.003495  0.003182  0.003874  0.003232  0.003411  0.003506   \n",
      "...             ...       ...       ...       ...       ...       ...   \n",
      "Asset_96   0.003431  0.003178  0.003730  0.004414  0.003263  0.003386   \n",
      "Asset_97   0.003406  0.003096  0.003592  0.003263  0.004077  0.003095   \n",
      "Asset_98   0.003379  0.002977  0.003668  0.003386  0.003095  0.004355   \n",
      "Asset_99   0.003577  0.003178  0.003799  0.003349  0.003286  0.003619   \n",
      "Asset_100  0.003630  0.003325  0.004110  0.003604  0.003492  0.003437   \n",
      "\n",
      "           Asset_99  Asset_100  \n",
      "Asset_1    0.003624   0.004370  \n",
      "Asset_2    0.003280   0.003747  \n",
      "Asset_3    0.003206   0.003763  \n",
      "Asset_4    0.003532   0.003963  \n",
      "Asset_5    0.003538   0.003813  \n",
      "...             ...        ...  \n",
      "Asset_96   0.003349   0.003604  \n",
      "Asset_97   0.003286   0.003492  \n",
      "Asset_98   0.003619   0.003437  \n",
      "Asset_99   0.004805   0.003674  \n",
      "Asset_100  0.003674   0.005134  \n",
      "\n",
      "[100 rows x 100 columns]\n"
     ]
    }
   ],
   "source": [
    "\n",
    "# Set the dimensions\n",
    "T = 1000  # Number of time periods\n",
    "N = 100   # Number of assets\n",
    "\n",
    "# Generate a random mean vector and covariance matrix for the multivariate normal distribution\n",
    "mean = np.random.uniform(-0.0005, 0.0005, N)\n",
    "A = np.random.uniform(0, 0.0113, size=(N, N))\n",
    "cov = np.dot(A, A.transpose())\n",
    "\n",
    "# Generate the Multivariate-Normal random dataset\n",
    "data = np.random.multivariate_normal(mean, cov, size=T)\n",
    "\n",
    "print('multivariate normal shape =', data.shape)\n",
    "\n",
    "# Convert the dataset to a DataFrame for easier manipulation\n",
    "df = pd.DataFrame(data, columns=[f'Asset_{i+1}' for i in range(N)])\n",
    "\n",
    "# Compute the vector of expected returns (mean returns) from df\n",
    "scalefactor = 256\n",
    "expected_return = ExpectedReturn(method='geometric', scalefactor = scalefactor)\n",
    "q =  expected_return.estimate(df, inplace = False)\n",
    "\n",
    "# Compute the covariance matrix from df\n",
    "covariance = Covariance(method='pearson')\n",
    "P = covariance.estimate(df, inplace=False)\n",
    "\n",
    "# Display the results\n",
    "print(\"Vector of expected returns (q):\")\n",
    "print(q)\n",
    "\n",
    "print(\"\\nCovariance matrix (P):\")\n",
    "print(P)\n"
   ]
  },
  {
   "cell_type": "code",
   "execution_count": 4,
   "metadata": {},
   "outputs": [
    {
     "name": "stdout",
     "output_type": "stream",
     "text": [
      "-0.3361194245918522\n"
     ]
    }
   ],
   "source": [
    "# average return over all assets\n",
    "print(q.mean(axis=0))"
   ]
  },
  {
   "cell_type": "markdown",
   "metadata": {},
   "source": [
    "### 1.b)\n",
    "(3 points)\n",
    "\n",
    "Instantiate a constraints object by injecting column names of the data created in 1.a) as ids and add:\n",
    "- a budget constaint (i.e., asset weights have to sum to one)\n",
    "- lower bounds of 0.0 for all assets\n",
    "- upper bounds of 0.2 for all assets\n",
    "- group contraints such that the sum of the weights of the first 30 assets is <= 0.3, the sum of assets 31 to 60 is <= 0.4 and the sum of assets 61 to 100 is <= 0.5"
   ]
  },
  {
   "cell_type": "code",
   "execution_count": 5,
   "metadata": {},
   "outputs": [],
   "source": [
    "# Instantiate the Constraints class\n",
    "constraints = Constraints(ids = df.columns.tolist())\n",
    "\n",
    "# Add budget constraint\n",
    "constraints.add_budget(rhs=1, sense='=')\n",
    "\n",
    "# Add box constraints (i.e., lower and upper bounds)\n",
    "constraints.add_box(lower=0.0, upper=0.2)\n",
    "\n",
    "# Add linear constraints\n",
    "G = pd.DataFrame(np.zeros((3, N)), columns = constraints.ids)\n",
    "G.iloc[0, 0:30] = 1\n",
    "G.iloc[1, 30:60] = 1\n",
    "G.iloc[2, 60:] = 1\n",
    "h = pd.Series([0.3, 0.4, 0.5])\n",
    "\n",
    "constraints.add_linear(G=G, rhs=h, sense='<=')"
   ]
  },
  {
   "cell_type": "markdown",
   "metadata": {},
   "source": [
    "### 1.c) \n",
    "(4 points)\n",
    "\n",
    "Solve a Mean-Variance optimization problem (using coefficients P and q in the objective function) which satisfies the above defined constraints.\n",
    "Repeat the task for all open-source solvers in qpsolvers and compare the results in terms of:\n",
    "\n",
    "- runtime\n",
    "- accuracy: value of the primal problem.\n",
    "- reliability: are all constarints fulfilled? Extract primal resisduals, dual residuals and duality gap.\n",
    "\n",
    "Generate a DataFrame with the solvers as column names and the following row index: 'solution_found': bool, 'objective': float, 'primal_residual': float, 'dual_residual': float, 'duality_gap': float, 'runtime': float.\n",
    "\n",
    "Put NA's for solvers that failed for some reason (e.g., unable to install the package or solvers throws an error during execution). \n",
    "\n",
    "\n"
   ]
  },
  {
   "cell_type": "code",
   "execution_count": 26,
   "metadata": {},
   "outputs": [],
   "source": [
    "# Extract the constraints in the format required by the solver\n",
    "GhAb = constraints.to_GhAb()\n",
    "\n",
    "# Loop over solvers, instantiate the quadratic program, solve it and store the results\n",
    "import qpsolvers\n",
    "\n",
    "solver_array = qpsolvers.available_solvers # array of available solvers\n",
    "\n",
    "data = {\n",
    "    'solution_found': [False]*len(solver_array),\n",
    "    'objective': [None] * len(solver_array),\n",
    "    'primal_residual': [float('nan')] * len(solver_array),\n",
    "    'dual_residual': [float('nan')] * len(solver_array),\n",
    "    'duality_gap': [float('nan')] * len(solver_array),\n",
    "    'runtime': [float('nan')] * len(solver_array),\n",
    "}\n",
    "Results_df  = pd.DataFrame(data, index=solver_array)\n",
    "\n",
    "for solver in solver_array:\n",
    "    mv = MeanVariance(\n",
    "        covariance=covariance,\n",
    "        expected_return=expected_return,\n",
    "        constraints=constraints,\n",
    "        risk_aversion=1,\n",
    "        solver_name=solver,\n",
    "    )\n",
    "    optimization_data = OptimizationData(return_series=df)\n",
    "    \n",
    "    mv.set_objective(optimization_data=optimization_data)\n",
    "\n",
    "    start_time = time.time()\n",
    "    mv.solve()\n",
    "    end_time = time.time()\n",
    "    execution_time = end_time - start_time\n",
    "\n",
    "    optimal_w = pd.Series(mv.results['weights'], index=df.columns)\n",
    "\n",
    "    # calculating residuals\n",
    "    r_budget = optimal_w.sum() - 1\n",
    "    r_lower = sum([w for w in optimal_w if w<0])\n",
    "    r_upper = sum([w-0.2 for w in optimal_w if w>0.2])\n",
    "    r_group1 = 0\n",
    "    r_group2 = 0\n",
    "    r_group3 = 0\n",
    "    if sum(optimal_w[:30]) > 0.3:\n",
    "        r_group1 = sum(optimal_w[:30]) - 0.3\n",
    "    if sum(optimal_w[31:60]) > 0.4:\n",
    "        r_group2 = sum(optimal_w[31:60]) - 0.4\n",
    "    if sum(optimal_w[61:100]) > 0.5:\n",
    "        r_group3 = sum(optimal_w[61:100]) - 0.5\n",
    "\n",
    "    r_array = np.array([r_budget, r_lower, r_upper, r_group1, r_group2, r_group3])\n",
    "\n",
    "    Results_df.loc[solver, 'solution_found'] = mv.results['status']\n",
    "    Results_df.loc[solver, 'objective'] = (-1*optimal_w @ q) + (optimal_w @ P @ optimal_w.T)\n",
    "    Results_df.loc[solver, 'primal_residual'] = np.linalg.norm(r_array)\n",
    "    Results_df.loc[solver, 'runtime'] = execution_time\n",
    "    "
   ]
  },
  {
   "cell_type": "markdown",
   "metadata": {},
   "source": [
    "Print and visualize the results"
   ]
  },
  {
   "cell_type": "code",
   "execution_count": 27,
   "metadata": {},
   "outputs": [
    {
     "name": "stdout",
     "output_type": "stream",
     "text": [
      "clarabel    0.058739\n",
      "cvxopt      0.033601\n",
      "daqp        0.046232\n",
      "ecos        0.035332\n",
      "highs       0.034932\n",
      "osqp        0.043057\n",
      "piqp        0.034119\n",
      "qpalm       0.031142\n",
      "quadprog    0.029782\n",
      "scs         0.031454\n",
      "qpax        0.029656\n",
      "Name: runtime, dtype: float64\n"
     ]
    },
    {
     "data": {
      "text/plain": [
       "<Axes: >"
      ]
     },
     "execution_count": 27,
     "metadata": {},
     "output_type": "execute_result"
    },
    {
     "data": {
      "image/png": "[encoded data removed]",
      "text/plain": [
       "<Figure size 640x480 with 1 Axes>"
      ]
     },
     "metadata": {},
     "output_type": "display_data"
    }
   ],
   "source": [
    "#<your code here>\n",
    "print(Results_df['runtime'])\n",
    "Results_df['runtime'].plot(kind='bar')"
   ]
  },
  {
   "cell_type": "markdown",
   "metadata": {},
   "source": [
    "## 2. Analytical Solution to Minimum-Variance Problem\n",
    "\n",
    "(5 points)\n",
    "\n",
    "- Create a `MinVariance` class that follows the structure of the `MeanVariance` class.\n",
    "- Implement the `solve` method in `MinVariance` such that if `solver_name = 'analytical'`, the analytical solution is computed and stored within the object (if such a solution exists). If not, call the `solve` method from the parent class.\n",
    "- Create a `Constraints` object by injecting the same ids as in part 1.b) and add a budget constraint.\n",
    "- Instantiate a `MinVariance` object by setting `solver_name = 'analytical'` and passing instances of `Constraints` and `Covariance` as arguments.\n",
    "- Create an `OptimizationData` object that contains an element `return_series`, which consists of the synthetic data generated in part 1.a).\n",
    "- Solve the optimization problem using the created `MinVariance` object and compare the results to those obtained in part 1.c).\n"
   ]
  },
  {
   "cell_type": "code",
   "execution_count": null,
   "metadata": {},
   "outputs": [],
   "source": [
    "# Define class MinVariance\n",
    "class MinVariance(Optimization):\n",
    "\n",
    "    def __init__(self,\n",
    "                 constraints: Constraints,\n",
    "                 covariance: Optional[Covariance] = None,\n",
    "                 **kwargs):\n",
    "        super().__init__(\n",
    "            constraints=constraints,\n",
    "            **kwargs\n",
    "        )\n",
    "        self.covariance = Covariance() if covariance is None else covariance\n",
    "\n",
    "    def set_objective(self, optimization_data: OptimizationData) -> None:\n",
    "        #<your code here>\n",
    "\n",
    "    def solve(self) -> None:\n",
    "        if self.params.get('solver_name') == 'analytical':\n",
    "            #<your code here>\n",
    "            return None\n",
    "        else:\n",
    "            return super().solve()\n",
    "\n",
    "\n",
    "# Create a constraints object with just a budget constraint\n",
    "#<your code here>\n",
    "\n",
    "# Instantiate the MinVariance class\n",
    "#<your code here>\n",
    "\n",
    "# Prepare the optimization data and prepare the optimization problem\n",
    "#<your code here>\n",
    "\n",
    "# Solve the optimization problem and print the weights\n",
    "#<your code here>"
   ]
  }
 ],
 "metadata": {
  "kernelspec": {
   "display_name": "proxsuite-testing",
   "language": "python",
   "name": "python3"
  },
  "language_info": {
   "codemirror_mode": {
    "name": "ipython",
    "version": 3
   },
   "file_extension": ".py",
   "mimetype": "text/x-python",
   "name": "python",
   "nbconvert_exporter": "python",
   "pygments_lexer": "ipython3",
   "version": "3.10.2"
  }
 },
 "nbformat": 4,
 "nbformat_minor": 2
}
